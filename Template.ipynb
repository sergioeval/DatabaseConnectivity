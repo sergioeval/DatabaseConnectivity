{
 "cells": [
  {
   "cell_type": "code",
   "execution_count": 1,
   "metadata": {},
   "outputs": [],
   "source": [
    "import json\n",
    "from Code.MasterConnector import MasterConnector"
   ]
  },
  {
   "cell_type": "code",
   "execution_count": 3,
   "metadata": {},
   "outputs": [],
   "source": [
    "# Parameters\n",
    "DB_SECRETS_FILE_PATH = 'DbSecrets/DbCredentials.json'\n",
    "DB_JAR_FILES_PATH = 'JarFiles/'\n",
    "DB_CERTIFICATES_PATH = 'DbCertificates/'\n",
    "JKS_FILE_PATH = DB_CERTIFICATES_PATH+'ibm-truststore.jks'"
   ]
  },
  {
   "cell_type": "code",
   "execution_count": 4,
   "metadata": {},
   "outputs": [
    {
     "data": {
      "text/plain": [
       "dict_keys(['gcognos', 'ESW', 'esdm_new', 'esdm_old', 'cp4dProjectsApi', 'infocenter', 'dsw_appid', 'slackApi'])"
      ]
     },
     "execution_count": 4,
     "metadata": {},
     "output_type": "execute_result"
    }
   ],
   "source": [
    "# reading secrets json file \n",
    "f = open(DB_SECRETS_FILE_PATH, 'r')\n",
    "secrets = json.load(f)\n",
    "secrets.keys()"
   ]
  },
  {
   "cell_type": "markdown",
   "metadata": {},
   "source": [
    "# Example using jks file "
   ]
  },
  {
   "cell_type": "code",
   "execution_count": null,
   "metadata": {},
   "outputs": [],
   "source": [
    "DbConnector = MasterConnector(dbDictionary=secrets['dsw_appid'], \n",
    "                                jarFilesPath=DB_JAR_FILES_PATH, \n",
    "                                jksPath=JKS_FILE_PATH)"
   ]
  },
  {
   "cell_type": "code",
   "execution_count": null,
   "metadata": {},
   "outputs": [],
   "source": [
    "data = DbConnector.sql_to_df(sql='select * from SODS2.BILLING limit 5')"
   ]
  },
  {
   "cell_type": "code",
   "execution_count": null,
   "metadata": {},
   "outputs": [],
   "source": [
    "data.head()"
   ]
  },
  {
   "cell_type": "markdown",
   "metadata": {},
   "source": [
    "# Example without cert and without jks (Ibm db2 on cloud)"
   ]
  },
  {
   "cell_type": "code",
   "execution_count": 5,
   "metadata": {},
   "outputs": [],
   "source": [
    "db_2 = MasterConnector(dbDictionary=secrets['esdm_new'], jarFilesPath=DB_JAR_FILES_PATH)"
   ]
  },
  {
   "cell_type": "code",
   "execution_count": 6,
   "metadata": {},
   "outputs": [
    {
     "name": "stdout",
     "output_type": "stream",
     "text": [
      "Connection to BLUDB established: sergio \n"
     ]
    },
    {
     "name": "stderr",
     "output_type": "stream",
     "text": [
      "/Users/sergioestrada/Library/CloudStorage/Box-Box/MY_DOCS/GITHUB/sergioeval/DatabaseConnectivity/Code/MasterConnector.py:105: UserWarning: pandas only supports SQLAlchemy connectable (engine/connection) or database string URI or sqlite3 DBAPI2 connection. Other DBAPI2 objects are not tested. Please consider using SQLAlchemy.\n",
      "  df = pd.read_sql(sql, self.conn)\n"
     ]
    },
    {
     "name": "stdout",
     "output_type": "stream",
     "text": [
      "SQL Run Time:  0:00:00.868001\n",
      "Connection closed\n"
     ]
    }
   ],
   "source": [
    "data = db_2.sql_to_df(sql='select * from ESDM.V_MI_SOE_SR_FINAL limit 5')"
   ]
  },
  {
   "cell_type": "code",
   "execution_count": 7,
   "metadata": {},
   "outputs": [
    {
     "data": {
      "text/html": [
       "<div>\n",
       "<style scoped>\n",
       "    .dataframe tbody tr th:only-of-type {\n",
       "        vertical-align: middle;\n",
       "    }\n",
       "\n",
       "    .dataframe tbody tr th {\n",
       "        vertical-align: top;\n",
       "    }\n",
       "\n",
       "    .dataframe thead th {\n",
       "        text-align: right;\n",
       "    }\n",
       "</style>\n",
       "<table border=\"1\" class=\"dataframe\">\n",
       "  <thead>\n",
       "    <tr style=\"text-align: right;\">\n",
       "      <th></th>\n",
       "      <th>OPPNAME</th>\n",
       "      <th>OPPOWNER</th>\n",
       "      <th>SR</th>\n",
       "      <th>RQNBR</th>\n",
       "      <th>REQUESTOWNER_MASKED</th>\n",
       "      <th>VALID</th>\n",
       "      <th>CUSTNAME</th>\n",
       "      <th>CCODE</th>\n",
       "      <th>CT_DAYS</th>\n",
       "      <th>DAYS_OVERDUE</th>\n",
       "      <th>...</th>\n",
       "      <th>BILLING_AMOUNT</th>\n",
       "      <th>BILLING_TYPE</th>\n",
       "      <th>CFTS_OR_IERP_CONTRACT_NUMBER</th>\n",
       "      <th>CFTS_WORK_NUMBERS_OR_IERP_WBS_NUMBERS</th>\n",
       "      <th>SQUAD_ORG</th>\n",
       "      <th>STANDARD_PAYMENT_TERMS</th>\n",
       "      <th>CUSTOM_INVOICE_NUMBER</th>\n",
       "      <th>SYSTEM_INVOICE_NUMBERS</th>\n",
       "      <th>BILLING_DATE</th>\n",
       "      <th>BILLING_FREQUENCY</th>\n",
       "    </tr>\n",
       "  </thead>\n",
       "  <tbody>\n",
       "    <tr>\n",
       "      <th>0</th>\n",
       "      <td>N/A</td>\n",
       "      <td>mnagyova@sk.ibm.com</td>\n",
       "      <td>2101258055256-6</td>\n",
       "      <td>GTSGB2101258055256-6</td>\n",
       "      <td>mnagyova@sk.ibm.com</td>\n",
       "      <td>N</td>\n",
       "      <td>BOOTS UK LTD IT FINANCE</td>\n",
       "      <td>GB</td>\n",
       "      <td>4.00</td>\n",
       "      <td>None</td>\n",
       "      <td>...</td>\n",
       "      <td>-14957.83</td>\n",
       "      <td>None</td>\n",
       "      <td></td>\n",
       "      <td>None</td>\n",
       "      <td>No Squad</td>\n",
       "      <td>None</td>\n",
       "      <td></td>\n",
       "      <td></td>\n",
       "      <td>None</td>\n",
       "      <td>None</td>\n",
       "    </tr>\n",
       "    <tr>\n",
       "      <th>1</th>\n",
       "      <td>N/A</td>\n",
       "      <td>N/A</td>\n",
       "      <td>2101258055309-1</td>\n",
       "      <td>ANADE2101258055309-1</td>\n",
       "      <td>matej.karel@ibm.com</td>\n",
       "      <td>N</td>\n",
       "      <td>0063035433-Schaeffler Technologies</td>\n",
       "      <td>DE</td>\n",
       "      <td>0.86</td>\n",
       "      <td>None</td>\n",
       "      <td>...</td>\n",
       "      <td>NaN</td>\n",
       "      <td>None</td>\n",
       "      <td>None</td>\n",
       "      <td>None</td>\n",
       "      <td>Q2C Europe/Mea</td>\n",
       "      <td>None</td>\n",
       "      <td>None</td>\n",
       "      <td>None</td>\n",
       "      <td>None</td>\n",
       "      <td>None</td>\n",
       "    </tr>\n",
       "    <tr>\n",
       "      <th>2</th>\n",
       "      <td>N/A</td>\n",
       "      <td>ecortesa@cr.ibm.com</td>\n",
       "      <td>2101258055433-1</td>\n",
       "      <td>GTSCL2101258055433-1</td>\n",
       "      <td>gressoni@br.ibm.com</td>\n",
       "      <td>N</td>\n",
       "      <td>CLARO CHILE S.A.</td>\n",
       "      <td>CL</td>\n",
       "      <td>0.33</td>\n",
       "      <td>None</td>\n",
       "      <td>...</td>\n",
       "      <td>0.00</td>\n",
       "      <td>None</td>\n",
       "      <td>CHAACRJ</td>\n",
       "      <td>None</td>\n",
       "      <td>No Squad</td>\n",
       "      <td>None</td>\n",
       "      <td>None</td>\n",
       "      <td>None</td>\n",
       "      <td>None</td>\n",
       "      <td>None</td>\n",
       "    </tr>\n",
       "    <tr>\n",
       "      <th>3</th>\n",
       "      <td>N/A</td>\n",
       "      <td>bruna.magno@ibm.com</td>\n",
       "      <td>2101258055469-1</td>\n",
       "      <td>COMUS2101258055469-1</td>\n",
       "      <td>bruna.magno@ibm.com</td>\n",
       "      <td>N</td>\n",
       "      <td>Massive stop</td>\n",
       "      <td>U4</td>\n",
       "      <td>0.01</td>\n",
       "      <td>None</td>\n",
       "      <td>...</td>\n",
       "      <td>NaN</td>\n",
       "      <td>None</td>\n",
       "      <td>None</td>\n",
       "      <td>None</td>\n",
       "      <td>No Squad</td>\n",
       "      <td>None</td>\n",
       "      <td>None</td>\n",
       "      <td>None</td>\n",
       "      <td>None</td>\n",
       "      <td>None</td>\n",
       "    </tr>\n",
       "    <tr>\n",
       "      <th>4</th>\n",
       "      <td>N/A</td>\n",
       "      <td>ahollanda@ibm.com</td>\n",
       "      <td>2101258055515-1</td>\n",
       "      <td>SHWMX2101258055515-1</td>\n",
       "      <td>ahollanda@ibm.com</td>\n",
       "      <td>N</td>\n",
       "      <td>LENOVO PC HK LIMITED</td>\n",
       "      <td>MX</td>\n",
       "      <td>0.30</td>\n",
       "      <td>None</td>\n",
       "      <td>...</td>\n",
       "      <td>NaN</td>\n",
       "      <td>None</td>\n",
       "      <td>None</td>\n",
       "      <td>None</td>\n",
       "      <td>Q2C Americas</td>\n",
       "      <td>None</td>\n",
       "      <td>None</td>\n",
       "      <td>None</td>\n",
       "      <td>None</td>\n",
       "      <td>None</td>\n",
       "    </tr>\n",
       "  </tbody>\n",
       "</table>\n",
       "<p>5 rows × 188 columns</p>\n",
       "</div>"
      ],
      "text/plain": [
       "  OPPNAME             OPPOWNER               SR                 RQNBR  \\\n",
       "0     N/A  mnagyova@sk.ibm.com  2101258055256-6  GTSGB2101258055256-6   \n",
       "1     N/A                  N/A  2101258055309-1  ANADE2101258055309-1   \n",
       "2     N/A  ecortesa@cr.ibm.com  2101258055433-1  GTSCL2101258055433-1   \n",
       "3     N/A  bruna.magno@ibm.com  2101258055469-1  COMUS2101258055469-1   \n",
       "4     N/A    ahollanda@ibm.com  2101258055515-1  SHWMX2101258055515-1   \n",
       "\n",
       "   REQUESTOWNER_MASKED VALID                            CUSTNAME CCODE  \\\n",
       "0  mnagyova@sk.ibm.com     N             BOOTS UK LTD IT FINANCE    GB   \n",
       "1  matej.karel@ibm.com     N  0063035433-Schaeffler Technologies    DE   \n",
       "2  gressoni@br.ibm.com     N                    CLARO CHILE S.A.    CL   \n",
       "3  bruna.magno@ibm.com     N                        Massive stop    U4   \n",
       "4    ahollanda@ibm.com     N                LENOVO PC HK LIMITED    MX   \n",
       "\n",
       "   CT_DAYS DAYS_OVERDUE  ... BILLING_AMOUNT BILLING_TYPE  \\\n",
       "0     4.00         None  ...      -14957.83         None   \n",
       "1     0.86         None  ...            NaN         None   \n",
       "2     0.33         None  ...           0.00         None   \n",
       "3     0.01         None  ...            NaN         None   \n",
       "4     0.30         None  ...            NaN         None   \n",
       "\n",
       "  CFTS_OR_IERP_CONTRACT_NUMBER CFTS_WORK_NUMBERS_OR_IERP_WBS_NUMBERS  \\\n",
       "0                                                               None   \n",
       "1                         None                                  None   \n",
       "2                      CHAACRJ                                  None   \n",
       "3                         None                                  None   \n",
       "4                         None                                  None   \n",
       "\n",
       "        SQUAD_ORG STANDARD_PAYMENT_TERMS CUSTOM_INVOICE_NUMBER  \\\n",
       "0        No Squad                   None                         \n",
       "1  Q2C Europe/Mea                   None                  None   \n",
       "2        No Squad                   None                  None   \n",
       "3        No Squad                   None                  None   \n",
       "4    Q2C Americas                   None                  None   \n",
       "\n",
       "  SYSTEM_INVOICE_NUMBERS BILLING_DATE BILLING_FREQUENCY  \n",
       "0                                None              None  \n",
       "1                   None         None              None  \n",
       "2                   None         None              None  \n",
       "3                   None         None              None  \n",
       "4                   None         None              None  \n",
       "\n",
       "[5 rows x 188 columns]"
      ]
     },
     "execution_count": 7,
     "metadata": {},
     "output_type": "execute_result"
    }
   ],
   "source": [
    "data"
   ]
  }
 ],
 "metadata": {
  "kernelspec": {
   "display_name": "p10_disputes",
   "language": "python",
   "name": "python3"
  },
  "language_info": {
   "codemirror_mode": {
    "name": "ipython",
    "version": 3
   },
   "file_extension": ".py",
   "mimetype": "text/x-python",
   "name": "python",
   "nbconvert_exporter": "python",
   "pygments_lexer": "ipython3",
   "version": "3.10.12"
  },
  "orig_nbformat": 4
 },
 "nbformat": 4,
 "nbformat_minor": 2
}
