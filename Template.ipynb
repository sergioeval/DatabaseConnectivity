{
 "cells": [
  {
   "cell_type": "markdown",
   "metadata": {},
   "source": [
    "# docker my sql db\n",
    "docker run --name mysqlDb -e MYSQL_ROOT_PASSWORD=alfabeta -e MYSQL_DATABASE=mysql -e MYSQL_USER=user -e MYSQL_PASSWORD=alfabeta -d mysql:latest -p 3306:3306   \n"
   ]
  },
  {
   "cell_type": "code",
   "execution_count": null,
   "metadata": {},
   "outputs": [],
   "source": [
    "import json\n",
    "from Code.MasterConnector import MasterConnector\n",
    "import pandas as pd"
   ]
  },
  {
   "cell_type": "code",
   "execution_count": null,
   "metadata": {},
   "outputs": [],
   "source": [
    "# Parameters\n",
    "DB_SECRETS_FILE_PATH = 'DbSecrets/DbCredentials.json'\n",
    "DB_JAR_FILES_PATH = 'JarFiles/'\n",
    "DB_CERTIFICATES_PATH = 'DbCertificates/'\n",
    "JKS_FILE_PATH = DB_CERTIFICATES_PATH+'ibm-truststore.jks'"
   ]
  },
  {
   "cell_type": "code",
   "execution_count": null,
   "metadata": {},
   "outputs": [],
   "source": [
    "# reading secrets json file \n",
    "f = open(DB_SECRETS_FILE_PATH, 'r')\n",
    "secrets = json.load(f)\n",
    "secrets.keys()"
   ]
  },
  {
   "cell_type": "markdown",
   "metadata": {},
   "source": [
    "# Example using jks file "
   ]
  },
  {
   "cell_type": "code",
   "execution_count": null,
   "metadata": {},
   "outputs": [],
   "source": [
    "DbConnector = MasterConnector(dbDictionary=secrets['dsw_appid'], \n",
    "                                jarFilesPath=DB_JAR_FILES_PATH, \n",
    "                                jksPath=JKS_FILE_PATH)"
   ]
  },
  {
   "cell_type": "code",
   "execution_count": null,
   "metadata": {},
   "outputs": [],
   "source": [
    "data = DbConnector.sql_to_df(sql='select * from SODS2.BILLING limit 5')"
   ]
  },
  {
   "cell_type": "code",
   "execution_count": null,
   "metadata": {},
   "outputs": [],
   "source": [
    "data.head()"
   ]
  },
  {
   "cell_type": "markdown",
   "metadata": {},
   "source": [
    "# Example without cert and without jks (Ibm db2 on cloud)"
   ]
  },
  {
   "cell_type": "code",
   "execution_count": null,
   "metadata": {},
   "outputs": [],
   "source": [
    "db_2 = MasterConnector(dbDictionary=secrets['esdm_new'], jarFilesPath=DB_JAR_FILES_PATH)"
   ]
  },
  {
   "cell_type": "code",
   "execution_count": null,
   "metadata": {},
   "outputs": [],
   "source": [
    "data = db_2.sql_to_df(sql='select * from ESDM.V_MI_SOE_SR_FINAL limit 5')"
   ]
  },
  {
   "cell_type": "code",
   "execution_count": null,
   "metadata": {},
   "outputs": [],
   "source": [
    "data"
   ]
  },
  {
   "cell_type": "markdown",
   "metadata": {},
   "source": [
    "# Example for a MySql db "
   ]
  },
  {
   "cell_type": "markdown",
   "metadata": {},
   "source": [
    "## To create the mysql database\n",
    "### docker-compose down\n",
    "### docker-compose up -d \n"
   ]
  },
  {
   "cell_type": "code",
   "execution_count": null,
   "metadata": {},
   "outputs": [],
   "source": [
    "#!pip install mysql-connector-python"
   ]
  },
  {
   "cell_type": "code",
   "execution_count": null,
   "metadata": {},
   "outputs": [],
   "source": [
    "secrets['mysql']"
   ]
  },
  {
   "cell_type": "code",
   "execution_count": null,
   "metadata": {},
   "outputs": [],
   "source": [
    "mysql_db = MasterConnector(dbDictionary=secrets['mysql'])"
   ]
  },
  {
   "cell_type": "code",
   "execution_count": null,
   "metadata": {},
   "outputs": [],
   "source": [
    "data = [{\n",
    "    'col1': 'testcol1',\n",
    "    'col2': 'test'\n",
    "}, {\n",
    "    'col1': 'testcol2',\n",
    "    'col2': 'test2'\n",
    "} ]\n",
    "data = pd.DataFrame(data)\n",
    "data"
   ]
  },
  {
   "cell_type": "code",
   "execution_count": null,
   "metadata": {},
   "outputs": [],
   "source": [
    "mysql_db._connectDb()"
   ]
  }
 ],
 "metadata": {
  "kernelspec": {
   "display_name": "p10_disputes",
   "language": "python",
   "name": "python3"
  },
  "language_info": {
   "codemirror_mode": {
    "name": "ipython",
    "version": 3
   },
   "file_extension": ".py",
   "mimetype": "text/x-python",
   "name": "python",
   "nbconvert_exporter": "python",
   "pygments_lexer": "ipython3",
   "version": "3.10.12"
  },
  "orig_nbformat": 4
 },
 "nbformat": 4,
 "nbformat_minor": 2
}
