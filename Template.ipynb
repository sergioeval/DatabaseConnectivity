{
 "cells": [
  {
   "cell_type": "markdown",
   "metadata": {},
   "source": [
    "# docker my sql db\n",
    "docker run --name mysqlDb -e MYSQL_ROOT_PASSWORD=alfabeta -e MYSQL_DATABASE=mysql -e MYSQL_USER=user -e MYSQL_PASSWORD=alfabeta -d mysql:latest -p 3306:3306   \n"
   ]
  },
  {
   "cell_type": "code",
   "execution_count": 1,
   "metadata": {},
   "outputs": [],
   "source": [
    "import json\n",
    "from Code.MasterConnector import MasterConnector"
   ]
  },
  {
   "cell_type": "code",
   "execution_count": 2,
   "metadata": {},
   "outputs": [],
   "source": [
    "# Parameters\n",
    "DB_SECRETS_FILE_PATH = 'DbSecrets/DbCredentials.json'\n",
    "DB_JAR_FILES_PATH = 'JarFiles/'\n",
    "DB_CERTIFICATES_PATH = 'DbCertificates/'\n",
    "JKS_FILE_PATH = DB_CERTIFICATES_PATH+'ibm-truststore.jks'"
   ]
  },
  {
   "cell_type": "code",
   "execution_count": 3,
   "metadata": {},
   "outputs": [
    {
     "data": {
      "text/plain": [
       "dict_keys(['gcognos', 'ESW', 'esdm_new', 'mysql', 'cp4dProjectsApi', 'infocenter', 'dsw_appid', 'slackApi'])"
      ]
     },
     "execution_count": 3,
     "metadata": {},
     "output_type": "execute_result"
    }
   ],
   "source": [
    "# reading secrets json file \n",
    "f = open(DB_SECRETS_FILE_PATH, 'r')\n",
    "secrets = json.load(f)\n",
    "secrets.keys()"
   ]
  },
  {
   "cell_type": "markdown",
   "metadata": {},
   "source": [
    "# Example using jks file "
   ]
  },
  {
   "cell_type": "code",
   "execution_count": 4,
   "metadata": {},
   "outputs": [],
   "source": [
    "DbConnector = MasterConnector(dbDictionary=secrets['dsw_appid'], \n",
    "                                jarFilesPath=DB_JAR_FILES_PATH, \n",
    "                                jksPath=JKS_FILE_PATH)"
   ]
  },
  {
   "cell_type": "code",
   "execution_count": 5,
   "metadata": {},
   "outputs": [
    {
     "name": "stdout",
     "output_type": "stream",
     "text": [
      "Connection to DSS established: dstrateg \n"
     ]
    },
    {
     "name": "stderr",
     "output_type": "stream",
     "text": [
      "/Users/sergioestrada/Library/CloudStorage/Box-Box/MY_DOCS/GITHUB/sergioeval/DatabaseConnectivity/Code/MasterConnector.py:114: UserWarning: pandas only supports SQLAlchemy connectable (engine/connection) or database string URI or sqlite3 DBAPI2 connection. Other DBAPI2 objects are not tested. Please consider using SQLAlchemy.\n",
      "  df = pd.read_sql(sql, self.conn)\n"
     ]
    },
    {
     "name": "stdout",
     "output_type": "stream",
     "text": [
      "SQL Run Time:  0:00:00.351138\n",
      "Connection closed\n"
     ]
    }
   ],
   "source": [
    "data = DbConnector.sql_to_df(sql='select * from SODS2.BILLING limit 5')"
   ]
  },
  {
   "cell_type": "code",
   "execution_count": 6,
   "metadata": {},
   "outputs": [
    {
     "data": {
      "text/html": [
       "<div>\n",
       "<style scoped>\n",
       "    .dataframe tbody tr th:only-of-type {\n",
       "        vertical-align: middle;\n",
       "    }\n",
       "\n",
       "    .dataframe tbody tr th {\n",
       "        vertical-align: top;\n",
       "    }\n",
       "\n",
       "    .dataframe thead th {\n",
       "        text-align: right;\n",
       "    }\n",
       "</style>\n",
       "<table border=\"1\" class=\"dataframe\">\n",
       "  <thead>\n",
       "    <tr style=\"text-align: right;\">\n",
       "      <th></th>\n",
       "      <th>SAP_BILLG_DOC_NUM</th>\n",
       "      <th>BILLG_DATE</th>\n",
       "      <th>SAP_ACCTG_STAT_CODE</th>\n",
       "      <th>SAP_BILLG_DOC_TYPE_CODE</th>\n",
       "      <th>SAP_BILLG_CAT_CODE</th>\n",
       "      <th>SAP_SALES_DOC_CAT_CODE</th>\n",
       "      <th>SHIP_TO_CUST_NUM</th>\n",
       "      <th>PAYER_CUST_NUM</th>\n",
       "      <th>CURRNCY_CODE</th>\n",
       "      <th>EXCHG_RATE_PLAN</th>\n",
       "      <th>...</th>\n",
       "      <th>CRM_RGN_CODE</th>\n",
       "      <th>CRM_GEOGPHY_CODE</th>\n",
       "      <th>WALLET_ID</th>\n",
       "      <th>TRAN_GOVT_ENTITY_IND_CODE</th>\n",
       "      <th>SRC_APPL</th>\n",
       "      <th>SHIP_TO_CUST_NUM_RDC</th>\n",
       "      <th>PAYER_CUST_NUM_RDC</th>\n",
       "      <th>SAP_SALES_ORG_CODE_S4H</th>\n",
       "      <th>SAP_CO_CODE_S4H</th>\n",
       "      <th>SBSCRPTN_BILLG</th>\n",
       "    </tr>\n",
       "  </thead>\n",
       "  <tbody>\n",
       "    <tr>\n",
       "      <th>0</th>\n",
       "      <td>0007229946</td>\n",
       "      <td>2020-08-05</td>\n",
       "      <td>C</td>\n",
       "      <td>Z1</td>\n",
       "      <td>L</td>\n",
       "      <td>M</td>\n",
       "      <td>0004123722</td>\n",
       "      <td>0007963760</td>\n",
       "      <td>INR</td>\n",
       "      <td>1.00000</td>\n",
       "      <td>...</td>\n",
       "      <td>None</td>\n",
       "      <td>None</td>\n",
       "      <td>None</td>\n",
       "      <td>None</td>\n",
       "      <td>ECC</td>\n",
       "      <td>None</td>\n",
       "      <td>None</td>\n",
       "      <td>None</td>\n",
       "      <td>None</td>\n",
       "      <td>None</td>\n",
       "    </tr>\n",
       "    <tr>\n",
       "      <th>1</th>\n",
       "      <td>0145509794</td>\n",
       "      <td>2020-08-05</td>\n",
       "      <td>C</td>\n",
       "      <td>ZBSM</td>\n",
       "      <td>A</td>\n",
       "      <td>O</td>\n",
       "      <td>0003374343</td>\n",
       "      <td>0003374343</td>\n",
       "      <td>USD</td>\n",
       "      <td>0.01452</td>\n",
       "      <td>...</td>\n",
       "      <td>None</td>\n",
       "      <td>None</td>\n",
       "      <td>None</td>\n",
       "      <td>None</td>\n",
       "      <td>ECC</td>\n",
       "      <td>None</td>\n",
       "      <td>None</td>\n",
       "      <td>None</td>\n",
       "      <td>None</td>\n",
       "      <td>None</td>\n",
       "    </tr>\n",
       "    <tr>\n",
       "      <th>2</th>\n",
       "      <td>0145509793</td>\n",
       "      <td>2020-08-05</td>\n",
       "      <td>C</td>\n",
       "      <td>ZBSM</td>\n",
       "      <td>A</td>\n",
       "      <td>O</td>\n",
       "      <td>0003374343</td>\n",
       "      <td>0003374343</td>\n",
       "      <td>USD</td>\n",
       "      <td>0.01398</td>\n",
       "      <td>...</td>\n",
       "      <td>None</td>\n",
       "      <td>None</td>\n",
       "      <td>None</td>\n",
       "      <td>None</td>\n",
       "      <td>ECC</td>\n",
       "      <td>None</td>\n",
       "      <td>None</td>\n",
       "      <td>None</td>\n",
       "      <td>None</td>\n",
       "      <td>None</td>\n",
       "    </tr>\n",
       "    <tr>\n",
       "      <th>3</th>\n",
       "      <td>0007607447</td>\n",
       "      <td>2020-08-05</td>\n",
       "      <td>C</td>\n",
       "      <td>Z5</td>\n",
       "      <td>A</td>\n",
       "      <td>O</td>\n",
       "      <td>0004123722</td>\n",
       "      <td>0007963760</td>\n",
       "      <td>INR</td>\n",
       "      <td>1.00000</td>\n",
       "      <td>...</td>\n",
       "      <td>None</td>\n",
       "      <td>None</td>\n",
       "      <td>None</td>\n",
       "      <td>None</td>\n",
       "      <td>ECC</td>\n",
       "      <td>None</td>\n",
       "      <td>None</td>\n",
       "      <td>None</td>\n",
       "      <td>None</td>\n",
       "      <td>None</td>\n",
       "    </tr>\n",
       "    <tr>\n",
       "      <th>4</th>\n",
       "      <td>0126106632</td>\n",
       "      <td>2020-08-05</td>\n",
       "      <td>C</td>\n",
       "      <td>ZCSM</td>\n",
       "      <td>A</td>\n",
       "      <td>O</td>\n",
       "      <td>0003355842</td>\n",
       "      <td>0007733682</td>\n",
       "      <td>DKK</td>\n",
       "      <td>15.77598</td>\n",
       "      <td>...</td>\n",
       "      <td>None</td>\n",
       "      <td>None</td>\n",
       "      <td>None</td>\n",
       "      <td>None</td>\n",
       "      <td>ECC</td>\n",
       "      <td>None</td>\n",
       "      <td>None</td>\n",
       "      <td>None</td>\n",
       "      <td>None</td>\n",
       "      <td>None</td>\n",
       "    </tr>\n",
       "  </tbody>\n",
       "</table>\n",
       "<p>5 rows × 70 columns</p>\n",
       "</div>"
      ],
      "text/plain": [
       "  SAP_BILLG_DOC_NUM  BILLG_DATE SAP_ACCTG_STAT_CODE SAP_BILLG_DOC_TYPE_CODE  \\\n",
       "0        0007229946  2020-08-05                   C                    Z1     \n",
       "1        0145509794  2020-08-05                   C                    ZBSM   \n",
       "2        0145509793  2020-08-05                   C                    ZBSM   \n",
       "3        0007607447  2020-08-05                   C                    Z5     \n",
       "4        0126106632  2020-08-05                   C                    ZCSM   \n",
       "\n",
       "  SAP_BILLG_CAT_CODE SAP_SALES_DOC_CAT_CODE SHIP_TO_CUST_NUM PAYER_CUST_NUM  \\\n",
       "0                  L                      M       0004123722     0007963760   \n",
       "1                  A                      O       0003374343     0003374343   \n",
       "2                  A                      O       0003374343     0003374343   \n",
       "3                  A                      O       0004123722     0007963760   \n",
       "4                  A                      O       0003355842     0007733682   \n",
       "\n",
       "  CURRNCY_CODE  EXCHG_RATE_PLAN  ...  CRM_RGN_CODE  CRM_GEOGPHY_CODE  \\\n",
       "0          INR          1.00000  ...          None              None   \n",
       "1          USD          0.01452  ...          None              None   \n",
       "2          USD          0.01398  ...          None              None   \n",
       "3          INR          1.00000  ...          None              None   \n",
       "4          DKK         15.77598  ...          None              None   \n",
       "\n",
       "   WALLET_ID  TRAN_GOVT_ENTITY_IND_CODE SRC_APPL SHIP_TO_CUST_NUM_RDC  \\\n",
       "0       None                       None      ECC                 None   \n",
       "1       None                       None      ECC                 None   \n",
       "2       None                       None      ECC                 None   \n",
       "3       None                       None      ECC                 None   \n",
       "4       None                       None      ECC                 None   \n",
       "\n",
       "  PAYER_CUST_NUM_RDC SAP_SALES_ORG_CODE_S4H SAP_CO_CODE_S4H SBSCRPTN_BILLG  \n",
       "0               None                   None            None           None  \n",
       "1               None                   None            None           None  \n",
       "2               None                   None            None           None  \n",
       "3               None                   None            None           None  \n",
       "4               None                   None            None           None  \n",
       "\n",
       "[5 rows x 70 columns]"
      ]
     },
     "execution_count": 6,
     "metadata": {},
     "output_type": "execute_result"
    }
   ],
   "source": [
    "data.head()"
   ]
  },
  {
   "cell_type": "markdown",
   "metadata": {},
   "source": [
    "# Example without cert and without jks (Ibm db2 on cloud)"
   ]
  },
  {
   "cell_type": "code",
   "execution_count": 7,
   "metadata": {},
   "outputs": [],
   "source": [
    "db_2 = MasterConnector(dbDictionary=secrets['esdm_new'], jarFilesPath=DB_JAR_FILES_PATH)"
   ]
  },
  {
   "cell_type": "code",
   "execution_count": 8,
   "metadata": {},
   "outputs": [
    {
     "name": "stdout",
     "output_type": "stream",
     "text": [
      "Connection to BLUDB established: sergio \n"
     ]
    },
    {
     "name": "stderr",
     "output_type": "stream",
     "text": [
      "/Users/sergioestrada/Library/CloudStorage/Box-Box/MY_DOCS/GITHUB/sergioeval/DatabaseConnectivity/Code/MasterConnector.py:114: UserWarning: pandas only supports SQLAlchemy connectable (engine/connection) or database string URI or sqlite3 DBAPI2 connection. Other DBAPI2 objects are not tested. Please consider using SQLAlchemy.\n",
      "  df = pd.read_sql(sql, self.conn)\n"
     ]
    },
    {
     "name": "stdout",
     "output_type": "stream",
     "text": [
      "SQL Run Time:  0:00:00.524026\n",
      "Connection closed\n"
     ]
    }
   ],
   "source": [
    "data = db_2.sql_to_df(sql='select * from ESDM.V_MI_SOE_SR_FINAL limit 5')"
   ]
  },
  {
   "cell_type": "code",
   "execution_count": 9,
   "metadata": {},
   "outputs": [
    {
     "data": {
      "text/html": [
       "<div>\n",
       "<style scoped>\n",
       "    .dataframe tbody tr th:only-of-type {\n",
       "        vertical-align: middle;\n",
       "    }\n",
       "\n",
       "    .dataframe tbody tr th {\n",
       "        vertical-align: top;\n",
       "    }\n",
       "\n",
       "    .dataframe thead th {\n",
       "        text-align: right;\n",
       "    }\n",
       "</style>\n",
       "<table border=\"1\" class=\"dataframe\">\n",
       "  <thead>\n",
       "    <tr style=\"text-align: right;\">\n",
       "      <th></th>\n",
       "      <th>OPPNAME</th>\n",
       "      <th>OPPOWNER</th>\n",
       "      <th>SR</th>\n",
       "      <th>RQNBR</th>\n",
       "      <th>REQUESTOWNER_MASKED</th>\n",
       "      <th>VALID</th>\n",
       "      <th>CUSTNAME</th>\n",
       "      <th>CCODE</th>\n",
       "      <th>CT_DAYS</th>\n",
       "      <th>DAYS_OVERDUE</th>\n",
       "      <th>...</th>\n",
       "      <th>BILLING_AMOUNT</th>\n",
       "      <th>BILLING_TYPE</th>\n",
       "      <th>CFTS_OR_IERP_CONTRACT_NUMBER</th>\n",
       "      <th>CFTS_WORK_NUMBERS_OR_IERP_WBS_NUMBERS</th>\n",
       "      <th>SQUAD_ORG</th>\n",
       "      <th>STANDARD_PAYMENT_TERMS</th>\n",
       "      <th>CUSTOM_INVOICE_NUMBER</th>\n",
       "      <th>SYSTEM_INVOICE_NUMBERS</th>\n",
       "      <th>BILLING_DATE</th>\n",
       "      <th>BILLING_FREQUENCY</th>\n",
       "    </tr>\n",
       "  </thead>\n",
       "  <tbody>\n",
       "    <tr>\n",
       "      <th>0</th>\n",
       "      <td>N/A</td>\n",
       "      <td>zuzana.florekova@sk.ibm.com</td>\n",
       "      <td>1810043143409-1</td>\n",
       "      <td>GTSES1810043143409-1</td>\n",
       "      <td>filipa.monteiro.ramos@ibm.com</td>\n",
       "      <td>N</td>\n",
       "      <td>CEMEX ESPA#A, S.A TOMÁS ZOPEQUE</td>\n",
       "      <td>ES</td>\n",
       "      <td>7.73</td>\n",
       "      <td>None</td>\n",
       "      <td>...</td>\n",
       "      <td>None</td>\n",
       "      <td>None</td>\n",
       "      <td>None</td>\n",
       "      <td>None</td>\n",
       "      <td>No Squad</td>\n",
       "      <td>None</td>\n",
       "      <td>None</td>\n",
       "      <td>None</td>\n",
       "      <td>None</td>\n",
       "      <td>None</td>\n",
       "    </tr>\n",
       "    <tr>\n",
       "      <th>1</th>\n",
       "      <td>Supporto BPM</td>\n",
       "      <td>giacinto_lopiccolo@it.ibm.com</td>\n",
       "      <td>1810043143538-1</td>\n",
       "      <td>CLDIT1810043143538-1</td>\n",
       "      <td>XXXXXXXXX</td>\n",
       "      <td>na</td>\n",
       "      <td>GROUPAMA ASSICURAZIONI SPA</td>\n",
       "      <td>IT</td>\n",
       "      <td>2.00</td>\n",
       "      <td>None</td>\n",
       "      <td>...</td>\n",
       "      <td>None</td>\n",
       "      <td>None</td>\n",
       "      <td>None</td>\n",
       "      <td>None</td>\n",
       "      <td>Q2C Europe/Mea</td>\n",
       "      <td>None</td>\n",
       "      <td>None</td>\n",
       "      <td>None</td>\n",
       "      <td>None</td>\n",
       "      <td>None</td>\n",
       "    </tr>\n",
       "    <tr>\n",
       "      <th>2</th>\n",
       "      <td>BP INGRAM [ContractEnd 6 Equipos USD 34020][Me...</td>\n",
       "      <td>eaorduzg@co.ibm.com</td>\n",
       "      <td>1810043143573-3</td>\n",
       "      <td>GTSCO1810043143573-3</td>\n",
       "      <td>thiago.de.andrade@ibm.com</td>\n",
       "      <td>Y</td>\n",
       "      <td>CLINICA MEDELLIN S A</td>\n",
       "      <td>CO</td>\n",
       "      <td>0.00</td>\n",
       "      <td>None</td>\n",
       "      <td>...</td>\n",
       "      <td>None</td>\n",
       "      <td>None</td>\n",
       "      <td>None</td>\n",
       "      <td>None</td>\n",
       "      <td>Q2C Americas</td>\n",
       "      <td>None</td>\n",
       "      <td>None</td>\n",
       "      <td>None</td>\n",
       "      <td>None</td>\n",
       "      <td>None</td>\n",
       "    </tr>\n",
       "    <tr>\n",
       "      <th>3</th>\n",
       "      <td>N/A</td>\n",
       "      <td>rui.carvalho@ie.ibm.com</td>\n",
       "      <td>1810043143580-1</td>\n",
       "      <td>GTSPT1810043143580-1</td>\n",
       "      <td>tiago.almeida@ibm.com</td>\n",
       "      <td>N</td>\n",
       "      <td>SIBS-FORWARD PAYMENT SOLUTIONS</td>\n",
       "      <td>PT</td>\n",
       "      <td>9.86</td>\n",
       "      <td>None</td>\n",
       "      <td>...</td>\n",
       "      <td>None</td>\n",
       "      <td>None</td>\n",
       "      <td>None</td>\n",
       "      <td>None</td>\n",
       "      <td>No Squad</td>\n",
       "      <td>None</td>\n",
       "      <td>None</td>\n",
       "      <td>None</td>\n",
       "      <td>None</td>\n",
       "      <td>None</td>\n",
       "    </tr>\n",
       "    <tr>\n",
       "      <th>4</th>\n",
       "      <td>SOC reporting improvement</td>\n",
       "      <td>jf.mairlot@be.ibm.com</td>\n",
       "      <td>1810043143617-1</td>\n",
       "      <td>SECLU1810043143617-1</td>\n",
       "      <td>guillaume.tkint@ie.ibm.com</td>\n",
       "      <td>Y</td>\n",
       "      <td>RBC INVESTOR SERVICES</td>\n",
       "      <td>LU</td>\n",
       "      <td>22.87</td>\n",
       "      <td>None</td>\n",
       "      <td>...</td>\n",
       "      <td>None</td>\n",
       "      <td>None</td>\n",
       "      <td>None</td>\n",
       "      <td>None</td>\n",
       "      <td>No Squad</td>\n",
       "      <td>None</td>\n",
       "      <td>None</td>\n",
       "      <td>None</td>\n",
       "      <td>None</td>\n",
       "      <td>None</td>\n",
       "    </tr>\n",
       "  </tbody>\n",
       "</table>\n",
       "<p>5 rows × 188 columns</p>\n",
       "</div>"
      ],
      "text/plain": [
       "                                             OPPNAME  \\\n",
       "0                                                N/A   \n",
       "1                                       Supporto BPM   \n",
       "2  BP INGRAM [ContractEnd 6 Equipos USD 34020][Me...   \n",
       "3                                                N/A   \n",
       "4                          SOC reporting improvement   \n",
       "\n",
       "                        OPPOWNER               SR                 RQNBR  \\\n",
       "0    zuzana.florekova@sk.ibm.com  1810043143409-1  GTSES1810043143409-1   \n",
       "1  giacinto_lopiccolo@it.ibm.com  1810043143538-1  CLDIT1810043143538-1   \n",
       "2            eaorduzg@co.ibm.com  1810043143573-3  GTSCO1810043143573-3   \n",
       "3        rui.carvalho@ie.ibm.com  1810043143580-1  GTSPT1810043143580-1   \n",
       "4          jf.mairlot@be.ibm.com  1810043143617-1  SECLU1810043143617-1   \n",
       "\n",
       "             REQUESTOWNER_MASKED VALID                         CUSTNAME CCODE  \\\n",
       "0  filipa.monteiro.ramos@ibm.com     N  CEMEX ESPA#A, S.A TOMÁS ZOPEQUE    ES   \n",
       "1                      XXXXXXXXX    na       GROUPAMA ASSICURAZIONI SPA    IT   \n",
       "2      thiago.de.andrade@ibm.com     Y             CLINICA MEDELLIN S A    CO   \n",
       "3          tiago.almeida@ibm.com     N   SIBS-FORWARD PAYMENT SOLUTIONS    PT   \n",
       "4     guillaume.tkint@ie.ibm.com     Y            RBC INVESTOR SERVICES    LU   \n",
       "\n",
       "   CT_DAYS DAYS_OVERDUE  ... BILLING_AMOUNT BILLING_TYPE  \\\n",
       "0     7.73         None  ...           None         None   \n",
       "1     2.00         None  ...           None         None   \n",
       "2     0.00         None  ...           None         None   \n",
       "3     9.86         None  ...           None         None   \n",
       "4    22.87         None  ...           None         None   \n",
       "\n",
       "  CFTS_OR_IERP_CONTRACT_NUMBER CFTS_WORK_NUMBERS_OR_IERP_WBS_NUMBERS  \\\n",
       "0                         None                                  None   \n",
       "1                         None                                  None   \n",
       "2                         None                                  None   \n",
       "3                         None                                  None   \n",
       "4                         None                                  None   \n",
       "\n",
       "        SQUAD_ORG STANDARD_PAYMENT_TERMS CUSTOM_INVOICE_NUMBER  \\\n",
       "0        No Squad                   None                  None   \n",
       "1  Q2C Europe/Mea                   None                  None   \n",
       "2    Q2C Americas                   None                  None   \n",
       "3        No Squad                   None                  None   \n",
       "4        No Squad                   None                  None   \n",
       "\n",
       "  SYSTEM_INVOICE_NUMBERS BILLING_DATE BILLING_FREQUENCY  \n",
       "0                   None         None              None  \n",
       "1                   None         None              None  \n",
       "2                   None         None              None  \n",
       "3                   None         None              None  \n",
       "4                   None         None              None  \n",
       "\n",
       "[5 rows x 188 columns]"
      ]
     },
     "execution_count": 9,
     "metadata": {},
     "output_type": "execute_result"
    }
   ],
   "source": [
    "data"
   ]
  },
  {
   "cell_type": "markdown",
   "metadata": {},
   "source": [
    "# Example for a MySql db "
   ]
  },
  {
   "cell_type": "markdown",
   "metadata": {},
   "source": [
    "## To create the mysql database\n",
    "### docker-compose down\n",
    "### docker-compose up -d \n"
   ]
  },
  {
   "cell_type": "code",
   "execution_count": 10,
   "metadata": {},
   "outputs": [],
   "source": [
    "#!pip install mysql-connector-python"
   ]
  },
  {
   "cell_type": "code",
   "execution_count": 11,
   "metadata": {},
   "outputs": [
    {
     "data": {
      "text/plain": [
       "{'uid': 'user',\n",
       " 'pwd': 'password',\n",
       " 'host': '127.0.0.1',\n",
       " 'port': '3306',\n",
       " 'db': 'mysql',\n",
       " 'd_source': 'mysql',\n",
       " 'ssl': 'False',\n",
       " 'using_cert_file': 'False',\n",
       " 'using_jks_file': 'False',\n",
       " 'jks_password': ''}"
      ]
     },
     "execution_count": 11,
     "metadata": {},
     "output_type": "execute_result"
    }
   ],
   "source": [
    "secrets['mysql']"
   ]
  },
  {
   "cell_type": "code",
   "execution_count": 14,
   "metadata": {},
   "outputs": [],
   "source": [
    "mysql_db = MasterConnector(dbDictionary=secrets['mysql'])"
   ]
  },
  {
   "cell_type": "code",
   "execution_count": 15,
   "metadata": {},
   "outputs": [],
   "source": [
    "mysql_db._connectDb()"
   ]
  },
  {
   "cell_type": "code",
   "execution_count": null,
   "metadata": {},
   "outputs": [],
   "source": []
  }
 ],
 "metadata": {
  "kernelspec": {
   "display_name": "p10_disputes",
   "language": "python",
   "name": "python3"
  },
  "language_info": {
   "codemirror_mode": {
    "name": "ipython",
    "version": 3
   },
   "file_extension": ".py",
   "mimetype": "text/x-python",
   "name": "python",
   "nbconvert_exporter": "python",
   "pygments_lexer": "ipython3",
   "version": "3.10.12"
  },
  "orig_nbformat": 4
 },
 "nbformat": 4,
 "nbformat_minor": 2
}
