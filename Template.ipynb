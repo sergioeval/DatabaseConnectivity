{
 "cells": [
  {
   "cell_type": "markdown",
   "metadata": {},
   "source": [
    "# docker my sql db\n",
    "docker run --name mysqlDb -e MYSQL_ROOT_PASSWORD=alfabeta -e MYSQL_DATABASE=mysql -e MYSQL_USER=user -e MYSQL_PASSWORD=alfabeta -d mysql:latest -p 3306:3306   \n"
   ]
  },
  {
   "cell_type": "code",
   "execution_count": null,
   "metadata": {},
   "outputs": [],
   "source": []
  },
  {
   "cell_type": "code",
   "execution_count": 1,
   "metadata": {},
   "outputs": [],
   "source": [
    "import json\n",
    "from Code.MasterConnector import MasterConnector\n",
    "import pandas as pd"
   ]
  },
  {
   "cell_type": "code",
   "execution_count": 2,
   "metadata": {},
   "outputs": [],
   "source": [
    "# Parameters\n",
    "DB_SECRETS_FILE_PATH = 'DbSecrets/DbCredentials.json'\n",
    "DB_JAR_FILES_PATH = 'JarFiles/'\n",
    "DB_CERTIFICATES_PATH = 'DbCertificates/'\n",
    "JKS_FILE_PATH = DB_CERTIFICATES_PATH+'ibm-truststore.jks'\n"
   ]
  },
  {
   "cell_type": "code",
   "execution_count": 3,
   "metadata": {},
   "outputs": [
    {
     "data": {
      "text/plain": [
       "dict_keys(['gcognos', 'ESW', 'BIGSQL_APIKEY', 'BMSIW', 'jerome', 'CEDP_ISC', 'EPM_askp', 'esdm_new', 'mysql', 'ManuConn', 'cp4dProjectsApi', 'infocenter', 'dsw_appid', 'slackApi'])"
      ]
     },
     "execution_count": 3,
     "metadata": {},
     "output_type": "execute_result"
    }
   ],
   "source": [
    "# reading secrets json file \n",
    "f = open(DB_SECRETS_FILE_PATH, 'r')\n",
    "secrets = json.load(f)\n",
    "secrets.keys()"
   ]
  },
  {
   "cell_type": "markdown",
   "metadata": {},
   "source": [
    "# Example bigsql"
   ]
  },
  {
   "cell_type": "code",
   "execution_count": 4,
   "metadata": {},
   "outputs": [],
   "source": [
    "DbConnector = MasterConnector(dbDictionary=secrets['ManuConn'], \n",
    "                                jarFilesPath=DB_JAR_FILES_PATH, \n",
    "                                jksPath=JKS_FILE_PATH, certPath=DB_CERTIFICATES_PATH+'CERT.cert')"
   ]
  },
  {
   "cell_type": "code",
   "execution_count": 5,
   "metadata": {},
   "outputs": [
    {
     "name": "stdout",
     "output_type": "stream",
     "text": [
      "Error in connection:  com.ibm.db2.jcc.am.SqlNonTransientConnectionException: DB2 SQL Error: SQLCODE=-1060, SQLSTATE=08004, SQLERRMC=RPMNGX  , DRIVER=4.32.28\n"
     ]
    }
   ],
   "source": [
    "DbConnector._connectDb()"
   ]
  },
  {
   "cell_type": "code",
   "execution_count": null,
   "metadata": {},
   "outputs": [],
   "source": [
    "data = DbConnector.sql_to_df(sql='''\n",
    "SELECT\n",
    "    CUSTOMERNUMBER,\n",
    "    INVOICENUMBER,\n",
    "    INVOICEDATE,\n",
    "    CONTRACTNUMBER,\n",
    "    WORKNUMBER,\n",
    "    PONESSA.BIT2STRING(LASTNAME) AS LASTNAME,\n",
    "    BILLFROMDATE AS THRU,\n",
    "    BILLTHRUDATE AS WEEKENDING,\n",
    "    ROUND(OLDINDEXRATE, 2) AS RATE,\n",
    "    ROUND(QUANTITY, 2) AS \"HOURS\",\n",
    "    BILLAMOUNT,\n",
    "    TAXAMOUNT,\n",
    "    TRAVELIND AS \"TYPE\",\n",
    "    PONESSA.BIT2STRING(INVOICETEXT) AS INVOICETEXT\n",
    "FROM BMSIW.T510INC_UV\n",
    "WHERE\n",
    "    COUNTRY='897'\n",
    "    AND COMPANYCODE='IBM'\n",
    "    AND INVOICEDATE >= '2020-01-01'\n",
    "    AND CUSTOMERNUMBER IN (\n",
    "        1008024,\n",
    "        1008047,\n",
    "        1015760,\n",
    "        2580581,\n",
    "        2677966,\n",
    "        2810652,\n",
    "        5952343)\n",
    "''')"
   ]
  },
  {
   "cell_type": "code",
   "execution_count": null,
   "metadata": {},
   "outputs": [],
   "source": [
    "data = bytes(b % 256 for b in data['INVOICETEXT'][0])"
   ]
  },
  {
   "cell_type": "code",
   "execution_count": null,
   "metadata": {},
   "outputs": [],
   "source": [
    "data.decode('cp037')"
   ]
  },
  {
   "cell_type": "code",
   "execution_count": null,
   "metadata": {},
   "outputs": [],
   "source": [
    "result.decode(encoding='utf-8')"
   ]
  },
  {
   "cell_type": "code",
   "execution_count": null,
   "metadata": {},
   "outputs": [],
   "source": [
    "b=data['INVOICETEXT'][0]\n",
    "str=\"\"\n",
    "for i in b:\n",
    "    str=str+chr(abs(i))"
   ]
  },
  {
   "cell_type": "code",
   "execution_count": null,
   "metadata": {},
   "outputs": [],
   "source": [
    "str"
   ]
  },
  {
   "cell_type": "markdown",
   "metadata": {},
   "source": [
    "# Example using jks file "
   ]
  },
  {
   "cell_type": "code",
   "execution_count": null,
   "metadata": {},
   "outputs": [],
   "source": []
  },
  {
   "cell_type": "code",
   "execution_count": null,
   "metadata": {},
   "outputs": [],
   "source": [
    "DbConnector = MasterConnector(dbDictionary=secrets['dsw_appid'], \n",
    "                                jarFilesPath=DB_JAR_FILES_PATH, \n",
    "                                jksPath=JKS_FILE_PATH)"
   ]
  },
  {
   "cell_type": "code",
   "execution_count": null,
   "metadata": {},
   "outputs": [],
   "source": [
    "data = DbConnector.sql_to_df(sql='select * from SODS2.BILLING limit 5')"
   ]
  },
  {
   "cell_type": "code",
   "execution_count": null,
   "metadata": {},
   "outputs": [],
   "source": [
    "data.head()"
   ]
  },
  {
   "cell_type": "markdown",
   "metadata": {},
   "source": [
    "# Example without cert and without jks (Ibm db2 on cloud)"
   ]
  },
  {
   "cell_type": "code",
   "execution_count": null,
   "metadata": {},
   "outputs": [],
   "source": [
    "db_2 = MasterConnector(dbDictionary=secrets['esdm_new'], jarFilesPath=DB_JAR_FILES_PATH)"
   ]
  },
  {
   "cell_type": "code",
   "execution_count": null,
   "metadata": {},
   "outputs": [],
   "source": [
    "data = db_2.sql_to_df(sql='select * from ESDM.V_MI_SOE_SR_FINAL limit 5')"
   ]
  },
  {
   "cell_type": "code",
   "execution_count": null,
   "metadata": {},
   "outputs": [],
   "source": [
    "data"
   ]
  },
  {
   "cell_type": "markdown",
   "metadata": {},
   "source": [
    "# Example for a MySql db "
   ]
  },
  {
   "cell_type": "markdown",
   "metadata": {},
   "source": [
    "## To create the mysql database\n",
    "### docker-compose down\n",
    "### docker-compose up -d \n"
   ]
  },
  {
   "cell_type": "code",
   "execution_count": null,
   "metadata": {},
   "outputs": [],
   "source": [
    "#!pip install mysql-connector-python"
   ]
  },
  {
   "cell_type": "code",
   "execution_count": null,
   "metadata": {},
   "outputs": [],
   "source": [
    "secrets['mysql']"
   ]
  },
  {
   "cell_type": "code",
   "execution_count": null,
   "metadata": {},
   "outputs": [],
   "source": [
    "mysql_db = MasterConnector(dbDictionary=secrets['mysql'])"
   ]
  },
  {
   "cell_type": "code",
   "execution_count": null,
   "metadata": {},
   "outputs": [],
   "source": [
    "data = [{\n",
    "    'col1': 'testcol1',\n",
    "    'col2': 'test'\n",
    "}, {\n",
    "    'col1': 'testcol2',\n",
    "    'col2': 'test2'\n",
    "} ]\n",
    "data = pd.DataFrame(data)\n",
    "data"
   ]
  },
  {
   "cell_type": "code",
   "execution_count": null,
   "metadata": {},
   "outputs": [],
   "source": [
    "mysql_db._connectDb()"
   ]
  }
 ],
 "metadata": {
  "kernelspec": {
   "display_name": "p10_disputes",
   "language": "python",
   "name": "python3"
  },
  "language_info": {
   "codemirror_mode": {
    "name": "ipython",
    "version": 3
   },
   "file_extension": ".py",
   "mimetype": "text/x-python",
   "name": "python",
   "nbconvert_exporter": "python",
   "pygments_lexer": "ipython3",
   "version": "3.12.1"
  },
  "orig_nbformat": 4
 },
 "nbformat": 4,
 "nbformat_minor": 2
}
